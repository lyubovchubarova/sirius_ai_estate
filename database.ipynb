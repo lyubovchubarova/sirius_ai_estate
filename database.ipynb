{
 "cells": [
  {
   "cell_type": "code",
   "execution_count": 1,
   "metadata": {},
   "outputs": [],
   "source": [
    "import sqlite3\n",
    "import pandas as pd"
   ]
  },
  {
   "cell_type": "code",
   "execution_count": 9,
   "metadata": {},
   "outputs": [],
   "source": [
    "df = pd.DataFrame(pd.read_excel(\"databasefiles/metro_distances.xlsx\"))\n",
    "#Подключаемся к бдшке\n",
    "con = sqlite3.connect('databasefiles/metro_distances_db.db')\n",
    "#Создаём курсор\n",
    "cur = con.cursor()\n",
    "#Создаём таблицу и столбцы\n",
    "cur.execute('''\n",
    "CREATE TABLE IF NOT EXISTS distances (\n",
    "id INTEGER PRIMARY KEY,\n",
    "metro_station TEXT NOT NULL,\n",
    "vnukovo REAl NOT NULL,\n",
    "domodedovo REAl NOT NULL,\n",
    "jukovskiy REAl NOT NULL,\n",
    "sheremetirvo REAl NOT NULL,\n",
    "red_ploshad REAl NOT NULL\n",
    ")\n",
    "''')\n",
    "#Заполняем столбцы\n",
    "for i in range(df.shape[0]):\n",
    "  cur.execute('''INSERT INTO distances (metro_station, vnukovo, domodedovo, jukovskiy, sheremetirvo, red_ploshad) VALUES (?, ?, ?, ?, ?, ?)''',\n",
    "   (df['Metro station'][i], df[' Расстояние до Внуково'][i], df[' Расстояние до Домодедово'][i],\n",
    "    df[' Расстояние до Жуковский'][i], df[' Расстояние до Шереметьево'][i], df['Расстояние до Красной площади'][i]))\n",
    "#Заносим таблицу в переменную\n",
    "cur.execute('SELECT metro_station, vnukovo FROM distances WHERE vnukovo < ?', (5,))\n",
    "results = cur.fetchall()\n",
    "#Сохраняем и выходим\n",
    "con.commit()\n",
    "con.close()"
   ]
  },
  {
   "cell_type": "code",
   "execution_count": 12,
   "metadata": {},
   "outputs": [
    {
     "name": "stdout",
     "output_type": "stream",
     "text": [
      "  Аэропорт Внуково 0.0\n",
      "  Рассказовка 4.162279649714224\n",
      "  Внуково 0.6745271598669104\n",
      "  Пыхтино 1.926265077083945\n",
      " Рассказовка 4.162279649714224\n",
      " Пыхтино 1.926265077083945\n",
      " Внуково 0.6745271598669104\n"
     ]
    }
   ],
   "source": [
    "for row in results:\n",
    "    print(*row)"
   ]
  },
  {
   "cell_type": "code",
   "execution_count": null,
   "metadata": {},
   "outputs": [],
   "source": []
  }
 ],
 "metadata": {
  "kernelspec": {
   "display_name": "base",
   "language": "python",
   "name": "python3"
  },
  "language_info": {
   "codemirror_mode": {
    "name": "ipython",
    "version": 3
   },
   "file_extension": ".py",
   "mimetype": "text/x-python",
   "name": "python",
   "nbconvert_exporter": "python",
   "pygments_lexer": "ipython3",
   "version": "3.11.9"
  }
 },
 "nbformat": 4,
 "nbformat_minor": 2
}
