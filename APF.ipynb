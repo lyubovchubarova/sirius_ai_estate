{
 "cells": [
  {
   "cell_type": "code",
   "execution_count": 2,
   "metadata": {},
   "outputs": [],
   "source": [
    "from sklearn.cluster import AffinityPropagation\n",
    "import numpy as np\n",
    "import pandas as pd"
   ]
  },
  {
   "cell_type": "code",
   "execution_count": 30,
   "metadata": {},
   "outputs": [
    {
     "data": {
      "text/plain": [
       "Metro station       0\n",
       "lon                 0\n",
       "lat                 0\n",
       "Number of floors    0\n",
       "type                0\n",
       "Number of rooms     0\n",
       "id                  0\n",
       "Area                0\n",
       "floor               0\n",
       "Price               0\n",
       "dtype: int64"
      ]
     },
     "execution_count": 30,
     "metadata": {},
     "output_type": "execute_result"
    }
   ],
   "source": [
    "df = pd.read_csv('CLEAN_DF.csv', index_col=['Unnamed: 0'], encoding='utf-8', delimiter=',')\n",
    "df.isna().sum()"
   ]
  },
  {
   "cell_type": "code",
   "execution_count": 31,
   "metadata": {},
   "outputs": [
    {
     "data": {
      "text/html": [
       "<div>\n",
       "<style scoped>\n",
       "    .dataframe tbody tr th:only-of-type {\n",
       "        vertical-align: middle;\n",
       "    }\n",
       "\n",
       "    .dataframe tbody tr th {\n",
       "        vertical-align: top;\n",
       "    }\n",
       "\n",
       "    .dataframe thead th {\n",
       "        text-align: right;\n",
       "    }\n",
       "</style>\n",
       "<table border=\"1\" class=\"dataframe\">\n",
       "  <thead>\n",
       "    <tr style=\"text-align: right;\">\n",
       "      <th></th>\n",
       "      <th>Metro station</th>\n",
       "      <th>lon</th>\n",
       "      <th>lat</th>\n",
       "      <th>Number of floors</th>\n",
       "      <th>type</th>\n",
       "      <th>Number of rooms</th>\n",
       "      <th>id</th>\n",
       "      <th>Area</th>\n",
       "      <th>floor</th>\n",
       "      <th>Price</th>\n",
       "    </tr>\n",
       "  </thead>\n",
       "  <tbody>\n",
       "    <tr>\n",
       "      <th>0</th>\n",
       "      <td>Авиамоторная</td>\n",
       "      <td>37.741785</td>\n",
       "      <td>55.736599</td>\n",
       "      <td>45</td>\n",
       "      <td>monolith</td>\n",
       "      <td>0.0</td>\n",
       "      <td>298892882</td>\n",
       "      <td>22.0</td>\n",
       "      <td>33</td>\n",
       "      <td>11266065.0</td>\n",
       "    </tr>\n",
       "    <tr>\n",
       "      <th>1</th>\n",
       "      <td>Авиамоторная</td>\n",
       "      <td>37.735153</td>\n",
       "      <td>55.754122</td>\n",
       "      <td>5</td>\n",
       "      <td>monolith</td>\n",
       "      <td>0.0</td>\n",
       "      <td>301280480</td>\n",
       "      <td>21.4</td>\n",
       "      <td>4</td>\n",
       "      <td>6990000.0</td>\n",
       "    </tr>\n",
       "    <tr>\n",
       "      <th>2</th>\n",
       "      <td>Авиамоторная</td>\n",
       "      <td>37.743276</td>\n",
       "      <td>55.736854</td>\n",
       "      <td>37</td>\n",
       "      <td>monolith</td>\n",
       "      <td>1.0</td>\n",
       "      <td>296502502</td>\n",
       "      <td>35.0</td>\n",
       "      <td>2</td>\n",
       "      <td>13215071.0</td>\n",
       "    </tr>\n",
       "    <tr>\n",
       "      <th>3</th>\n",
       "      <td>Авиамоторная</td>\n",
       "      <td>37.700595</td>\n",
       "      <td>55.749435</td>\n",
       "      <td>28</td>\n",
       "      <td>monolith</td>\n",
       "      <td>1.0</td>\n",
       "      <td>301175786</td>\n",
       "      <td>34.0</td>\n",
       "      <td>6</td>\n",
       "      <td>18990000.0</td>\n",
       "    </tr>\n",
       "    <tr>\n",
       "      <th>4</th>\n",
       "      <td>Авиамоторная</td>\n",
       "      <td>37.696511</td>\n",
       "      <td>55.753244</td>\n",
       "      <td>11</td>\n",
       "      <td>monolith</td>\n",
       "      <td>1.0</td>\n",
       "      <td>301392165</td>\n",
       "      <td>38.9</td>\n",
       "      <td>3</td>\n",
       "      <td>12436330.0</td>\n",
       "    </tr>\n",
       "    <tr>\n",
       "      <th>...</th>\n",
       "      <td>...</td>\n",
       "      <td>...</td>\n",
       "      <td>...</td>\n",
       "      <td>...</td>\n",
       "      <td>...</td>\n",
       "      <td>...</td>\n",
       "      <td>...</td>\n",
       "      <td>...</td>\n",
       "      <td>...</td>\n",
       "      <td>...</td>\n",
       "    </tr>\n",
       "    <tr>\n",
       "      <th>29913</th>\n",
       "      <td>Курьяново</td>\n",
       "      <td>37.726294</td>\n",
       "      <td>55.658999</td>\n",
       "      <td>33</td>\n",
       "      <td>monolith</td>\n",
       "      <td>1.0</td>\n",
       "      <td>299448640</td>\n",
       "      <td>32.4</td>\n",
       "      <td>8</td>\n",
       "      <td>9798667.0</td>\n",
       "    </tr>\n",
       "    <tr>\n",
       "      <th>29914</th>\n",
       "      <td>Курьяново</td>\n",
       "      <td>37.727033</td>\n",
       "      <td>55.658474</td>\n",
       "      <td>17</td>\n",
       "      <td>monolith</td>\n",
       "      <td>3.0</td>\n",
       "      <td>299448952</td>\n",
       "      <td>73.8</td>\n",
       "      <td>13</td>\n",
       "      <td>19115233.0</td>\n",
       "    </tr>\n",
       "    <tr>\n",
       "      <th>29915</th>\n",
       "      <td>Курьяново</td>\n",
       "      <td>37.726294</td>\n",
       "      <td>55.658999</td>\n",
       "      <td>33</td>\n",
       "      <td>monolith</td>\n",
       "      <td>2.0</td>\n",
       "      <td>299448711</td>\n",
       "      <td>46.1</td>\n",
       "      <td>18</td>\n",
       "      <td>13408830.0</td>\n",
       "    </tr>\n",
       "    <tr>\n",
       "      <th>29916</th>\n",
       "      <td>Курьяново</td>\n",
       "      <td>37.726294</td>\n",
       "      <td>55.658999</td>\n",
       "      <td>33</td>\n",
       "      <td>monolith</td>\n",
       "      <td>2.0</td>\n",
       "      <td>299448757</td>\n",
       "      <td>48.7</td>\n",
       "      <td>3</td>\n",
       "      <td>13334644.0</td>\n",
       "    </tr>\n",
       "    <tr>\n",
       "      <th>29917</th>\n",
       "      <td>Курьяново</td>\n",
       "      <td>37.726294</td>\n",
       "      <td>55.658999</td>\n",
       "      <td>33</td>\n",
       "      <td>monolith</td>\n",
       "      <td>2.0</td>\n",
       "      <td>299448896</td>\n",
       "      <td>58.7</td>\n",
       "      <td>33</td>\n",
       "      <td>15520514.0</td>\n",
       "    </tr>\n",
       "  </tbody>\n",
       "</table>\n",
       "<p>29918 rows × 10 columns</p>\n",
       "</div>"
      ],
      "text/plain": [
       "      Metro station        lon        lat  Number of floors      type  \\\n",
       "0      Авиамоторная  37.741785  55.736599                45  monolith   \n",
       "1      Авиамоторная  37.735153  55.754122                 5  monolith   \n",
       "2      Авиамоторная  37.743276  55.736854                37  monolith   \n",
       "3      Авиамоторная  37.700595  55.749435                28  monolith   \n",
       "4      Авиамоторная  37.696511  55.753244                11  monolith   \n",
       "...             ...        ...        ...               ...       ...   \n",
       "29913     Курьяново  37.726294  55.658999                33  monolith   \n",
       "29914     Курьяново  37.727033  55.658474                17  monolith   \n",
       "29915     Курьяново  37.726294  55.658999                33  monolith   \n",
       "29916     Курьяново  37.726294  55.658999                33  monolith   \n",
       "29917     Курьяново  37.726294  55.658999                33  monolith   \n",
       "\n",
       "       Number of rooms         id  Area  floor       Price  \n",
       "0                  0.0  298892882  22.0     33  11266065.0  \n",
       "1                  0.0  301280480  21.4      4   6990000.0  \n",
       "2                  1.0  296502502  35.0      2  13215071.0  \n",
       "3                  1.0  301175786  34.0      6  18990000.0  \n",
       "4                  1.0  301392165  38.9      3  12436330.0  \n",
       "...                ...        ...   ...    ...         ...  \n",
       "29913              1.0  299448640  32.4      8   9798667.0  \n",
       "29914              3.0  299448952  73.8     13  19115233.0  \n",
       "29915              2.0  299448711  46.1     18  13408830.0  \n",
       "29916              2.0  299448757  48.7      3  13334644.0  \n",
       "29917              2.0  299448896  58.7     33  15520514.0  \n",
       "\n",
       "[29918 rows x 10 columns]"
      ]
     },
     "execution_count": 31,
     "metadata": {},
     "output_type": "execute_result"
    }
   ],
   "source": [
    "df = df.reset_index().drop(['index'], axis=1)\n",
    "df"
   ]
  },
  {
   "cell_type": "code",
   "execution_count": 34,
   "metadata": {},
   "outputs": [
    {
     "name": "stdout",
     "output_type": "stream",
     "text": [
      "['Авиамоторная', 'Автозаводская', 'Академическая', 'Александровский сад', 'Кокошкино', 'Алексеевская', 'Алтуфьево', 'Аннино', 'Южная', 'Спортивная', 'Арбатская', 'Аэропорт', 'Бабушкинская', 'Багратионовская', 'Баррикадная', 'Бауманская', 'Беговая', 'Белорусская', 'Беляево', 'Бибирево', 'Библиотека им. Ленина', 'Новоясеневская', 'Боровицкая', 'Полянка', 'Ботанический сад', 'Пионерская', 'Солнечная', 'Братиславская', 'Угрешская', 'Коммунарка', 'Бульвар Адмирала Ушакова', 'Бульвар Дмитрия Донского', 'Крымская', 'Щербинка', 'Бунинская аллея', 'Варшавская', 'ВДНХ', 'Владыкино', 'Водный стадион', 'Войковская', 'Волгоградский проспект', 'Волжская', 'Воробьёвы горы', 'Выхино', 'Нижегородская', 'Москва-Сити', 'Динамо', 'Дмитровская', 'Добрынинская', 'Домодедовская', 'Ольховая', 'Дубровка', 'Измайловская', 'Калужская', 'Кантемировская', 'Каховская', 'Каширская', 'Киевская', 'Китай-город', 'Кожуховская', 'Коломенская', 'Комсомольская', 'Коньково', 'Красногвардейская', 'Красносельская', 'Красные ворота', 'Крестьянская застава', 'Павелецкая', 'Кропоткинская', 'Крылатское', 'Кузнецкий мост', 'Кузьминки', 'Кунцевская', 'Курская', 'Кутузовская', 'Фили', 'Ленинский проспект', 'Лубянка', 'Люблино', 'Марксистская', 'Марьино', 'Маяковская', 'Медведково', 'Деловой центр', 'Менделеевская', 'Молодёжная', 'Нагатинская', 'Нагорная', 'Нахимовский проспект', 'Новогиреево', 'Новокузнецкая', 'Новослободская', 'Новые Черёмушки', 'Октябрьская', 'Октябрьское поле', 'Зорге', 'Орехово', 'Отрадное', 'Свиблово', 'Охотный ряд', 'Парк Культуры', 'Парк Победы', 'Партизанская', 'Первомайская', 'Перово', 'Петровско-Разумовская', 'Печатники', 'Планерная', 'Сходненская', 'Площадь Ильича', 'Площадь Революции', 'Полежаевская', 'Пражская', 'Преображенская площадь', 'Пролетарская', 'Проспект Вернадского', 'Проспект Мира', 'Профсоюзная', 'Пушкинская', 'Речной вокзал', 'Рижская', 'Римская', 'Рязанский проспект', 'Савёловская', 'Севастопольская', 'Семёновская', 'Серпуховская', 'Смоленская', 'Сокол', 'Сокольники', 'Сретенский бульвар', 'Студенческая', 'Сухаревская', 'Трикотажная', 'Таганская', 'Тверская', 'Театральная', 'Текстильщики', 'Тёплый Стан', 'Троицк', 'Тимирязевская', 'Третьяковская', 'Трубная', 'Тульская', 'ЗИЛ', 'Тургеневская', 'Тушинская', 'Улица 1905 года', 'Улица Академика Янгеля', 'Улица Горчакова', 'Бульвар Рокоссовского', 'Улица Скобелевская', 'Улица Старокачаловская', 'Университет', 'Филёвский парк', 'Фрунзенская', 'Царицыно', 'Цветной бульвар', 'Черкизовская', 'Чертановская', 'Чеховская', 'Чистые пруды', 'Чкаловская', 'Шаболовская', 'Шоссе Энтузиастов', 'Щёлковская', 'Щукинская', 'Электрозаводская', 'Юго-Западная', 'Ясенево', 'Краснопресненская', 'Железнодорожная', 'Балтийская', 'Ольгино', 'Удельная', 'Достоевская', 'Строгино', 'Павшино', 'Славянский бульвар', 'Звенигородская', 'Мякинино', 'Волоколамская', 'Митино', 'Марьина Роща', 'Шипиловская', 'Зябликово', 'Борисово', 'Новокосино', 'Пятницкое шоссе', 'Алма-Атинская', 'Кедровая', 'Ипподром', 'Победа', 'Жулебино', 'Лермонтовский проспект', 'Лесопарковая', 'Битцевский парк', 'Спартак', 'Улица Сергея Эйзенштейна', 'Выставочный центр', 'Улица Академика Королёва', 'Телецентр', 'Улица Милашенкова', 'Тропарёво', 'Котельники', 'Технопарк', 'Румянцево', 'Фонвизинская', 'Бутырская', 'Хорошёво', 'Панфиловская', 'Стрешнево', 'Коптево', 'Лихоборы', 'Окружная', 'Ростокино', 'Белокаменная', 'Локомотив', 'Измайлово', 'Соколиная гора', 'Андроновка', 'Новохохловская', 'Верхние котлы', 'Площадь Гагарина', 'Лужники', 'Шелепиха', 'Минская', 'Ломоносовский проспект', 'Раменки', 'Ховрино', 'Петровский Парк', 'Хорошёвская', 'ЦСКА', 'Верхние Лихоборы', 'Селигерская', 'Мичуринский проспект', 'Озёрная', 'Говорово', 'Солнцево', 'Боровское шоссе', 'Новопеределкино', 'Рассказовка', 'Беломорская', 'Косино', 'Улица Дмитриевского', 'Лухмановская', 'Некрасовка', 'Юго-Восточная', 'Окская', 'Стахановская', 'Лефортово', 'Шереметьевская', 'Кленовый бульвар', 'Нагатинский Затон', 'Зюзино', 'Воронцовская', 'Новаторская', 'Аминьевская', 'Давыдково', 'Мнёвники', 'Терехово ', 'Карамышевская', 'Яхромская', 'Лианозово', 'Рабочий посёлок', 'Сетунь', 'Немчиновка', 'Сколково', 'Баковка', 'Одинцово', 'Лобня', 'Хлебниково', 'Водники', 'Долгопрудная', 'Новодачная', 'Марк', 'Бескудниково', 'Дегунино', 'Нахабино', 'Опалиха', 'Аникеевка', 'Красногорская', 'Пенягино', 'Красный Балтиец', 'Гражданская', 'Москва-Товарная', 'Калитники', 'Депо', 'Перерва', 'Москворечье', 'Покровское', 'Красный Строитель', 'Битца', 'Силикатная', 'Подольск', 'Остафьево', 'Курьяново', 'Народное Ополчение', 'Площадь трёх вокзалов', 'Зеленоград — Крюково', 'Фирсановская', 'Сходня', 'Подрезково', 'Новоподрезково', 'Молжаниново', 'Химки', 'Левобережная', 'Грачёвская', 'Моссельмаш', 'Останкино', 'Сортировочная', 'Плющево', 'Вешняки', 'Ухтомская', 'Люберцы', 'Панки', 'Томилино', 'Красково', 'Быково', 'Ильинская', 'Отдых', 'Кратово', 'Есенинская', 'Фабричная', 'Апрелевка', 'Раменское', 'Санино', 'Лесной Городок', 'Внуково', 'Мичуринец', 'Переделкино', 'Мещерская', 'Очаково', 'Матвеевская', 'Поклонная', 'Серп и Молот', 'Чухлинка', 'Кусково', 'Реутов', 'Никольское', 'Салтыковская', 'Кучино', 'Физтех', 'Аэропорт Внуково', 'Пыхтино', 'Потапово', 'Гольяново', 'Вавиловская', 'Университет Дружбы Народов', 'Генерала Тюленева', 'Бульвар Генерала Карбышева', 'Липовая Роща', 'Бирюлёво', 'Каспийская', 'Остров мечты', 'Липецкая', 'Кавказский бульвар']\n",
      "['monolith', 'brick', 'block', 'panel', 'monolithBrick', 'stalin', 'gasSilicateBlock', 'old']\n",
      "\n"
     ]
    }
   ],
   "source": [
    "metrostation = []\n",
    "mtypes = []\n",
    "offertype = []\n",
    "for i in df['Metro station']: metrostation.append(i) if i not in metrostation else i\n",
    "for i in df['type']: mtypes.append(i) if i not in mtypes else i\n",
    "mdict = {}\n",
    "mtypes = {}\n",
    "\n",
    "print(f\"{metrostation}\\n{mtypes}\\n\")"
   ]
  },
  {
   "cell_type": "code",
   "execution_count": 32,
   "metadata": {},
   "outputs": [
    {
     "ename": "ValueError",
     "evalue": "could not convert string to float: 'Авиамоторная'",
     "output_type": "error",
     "traceback": [
      "\u001b[0;31m---------------------------------------------------------------------------\u001b[0m",
      "\u001b[0;31mValueError\u001b[0m                                Traceback (most recent call last)",
      "\u001b[0;32m/var/folders/mz/c85xwc6170v72j1f_tsm0bkh0000gn/T/ipykernel_61185/2622596195.py\u001b[0m in \u001b[0;36m?\u001b[0;34m()\u001b[0m\n\u001b[0;32m----> 1\u001b[0;31m \u001b[0mAP\u001b[0m \u001b[0;34m=\u001b[0m \u001b[0mAffinityPropagation\u001b[0m\u001b[0;34m(\u001b[0m\u001b[0mdamping\u001b[0m\u001b[0;34m=\u001b[0m\u001b[0;36m0.9\u001b[0m\u001b[0;34m,\u001b[0m \u001b[0mrandom_state\u001b[0m\u001b[0;34m=\u001b[0m\u001b[0;36m17\u001b[0m\u001b[0;34m)\u001b[0m\u001b[0;34m.\u001b[0m\u001b[0mfit\u001b[0m\u001b[0;34m(\u001b[0m\u001b[0mdf\u001b[0m\u001b[0;34m)\u001b[0m\u001b[0;34m\u001b[0m\u001b[0;34m\u001b[0m\u001b[0m\n\u001b[0m\u001b[1;32m      2\u001b[0m \u001b[0mAP\u001b[0m\u001b[0;34m\u001b[0m\u001b[0;34m\u001b[0m\u001b[0m\n",
      "\u001b[0;32m/Volumes/reDisK/Projects/Python/SiriusAI_withexp/.conda/lib/python3.11/site-packages/sklearn/base.py\u001b[0m in \u001b[0;36m?\u001b[0;34m(estimator, *args, **kwargs)\u001b[0m\n\u001b[1;32m   1470\u001b[0m                 skip_parameter_validation=(\n\u001b[1;32m   1471\u001b[0m                     \u001b[0mprefer_skip_nested_validation\u001b[0m \u001b[0;32mor\u001b[0m \u001b[0mglobal_skip_validation\u001b[0m\u001b[0;34m\u001b[0m\u001b[0;34m\u001b[0m\u001b[0m\n\u001b[1;32m   1472\u001b[0m                 )\n\u001b[1;32m   1473\u001b[0m             ):\n\u001b[0;32m-> 1474\u001b[0;31m                 \u001b[0;32mreturn\u001b[0m \u001b[0mfit_method\u001b[0m\u001b[0;34m(\u001b[0m\u001b[0mestimator\u001b[0m\u001b[0;34m,\u001b[0m \u001b[0;34m*\u001b[0m\u001b[0margs\u001b[0m\u001b[0;34m,\u001b[0m \u001b[0;34m**\u001b[0m\u001b[0mkwargs\u001b[0m\u001b[0;34m)\u001b[0m\u001b[0;34m\u001b[0m\u001b[0;34m\u001b[0m\u001b[0m\n\u001b[0m",
      "\u001b[0;32m/Volumes/reDisK/Projects/Python/SiriusAI_withexp/.conda/lib/python3.11/site-packages/sklearn/cluster/_affinity_propagation.py\u001b[0m in \u001b[0;36m?\u001b[0;34m(self, X, y)\u001b[0m\n\u001b[1;32m    506\u001b[0m         \u001b[0;32mif\u001b[0m \u001b[0mself\u001b[0m\u001b[0;34m.\u001b[0m\u001b[0maffinity\u001b[0m \u001b[0;34m==\u001b[0m \u001b[0;34m\"precomputed\"\u001b[0m\u001b[0;34m:\u001b[0m\u001b[0;34m\u001b[0m\u001b[0;34m\u001b[0m\u001b[0m\n\u001b[1;32m    507\u001b[0m             \u001b[0maccept_sparse\u001b[0m \u001b[0;34m=\u001b[0m \u001b[0;32mFalse\u001b[0m\u001b[0;34m\u001b[0m\u001b[0;34m\u001b[0m\u001b[0m\n\u001b[1;32m    508\u001b[0m         \u001b[0;32melse\u001b[0m\u001b[0;34m:\u001b[0m\u001b[0;34m\u001b[0m\u001b[0;34m\u001b[0m\u001b[0m\n\u001b[1;32m    509\u001b[0m             \u001b[0maccept_sparse\u001b[0m \u001b[0;34m=\u001b[0m \u001b[0;34m\"csr\"\u001b[0m\u001b[0;34m\u001b[0m\u001b[0;34m\u001b[0m\u001b[0m\n\u001b[0;32m--> 510\u001b[0;31m         \u001b[0mX\u001b[0m \u001b[0;34m=\u001b[0m \u001b[0mself\u001b[0m\u001b[0;34m.\u001b[0m\u001b[0m_validate_data\u001b[0m\u001b[0;34m(\u001b[0m\u001b[0mX\u001b[0m\u001b[0;34m,\u001b[0m \u001b[0maccept_sparse\u001b[0m\u001b[0;34m=\u001b[0m\u001b[0maccept_sparse\u001b[0m\u001b[0;34m)\u001b[0m\u001b[0;34m\u001b[0m\u001b[0;34m\u001b[0m\u001b[0m\n\u001b[0m\u001b[1;32m    511\u001b[0m         \u001b[0;32mif\u001b[0m \u001b[0mself\u001b[0m\u001b[0;34m.\u001b[0m\u001b[0maffinity\u001b[0m \u001b[0;34m==\u001b[0m \u001b[0;34m\"precomputed\"\u001b[0m\u001b[0;34m:\u001b[0m\u001b[0;34m\u001b[0m\u001b[0;34m\u001b[0m\u001b[0m\n\u001b[1;32m    512\u001b[0m             \u001b[0mself\u001b[0m\u001b[0;34m.\u001b[0m\u001b[0maffinity_matrix_\u001b[0m \u001b[0;34m=\u001b[0m \u001b[0mX\u001b[0m\u001b[0;34m.\u001b[0m\u001b[0mcopy\u001b[0m\u001b[0;34m(\u001b[0m\u001b[0;34m)\u001b[0m \u001b[0;32mif\u001b[0m \u001b[0mself\u001b[0m\u001b[0;34m.\u001b[0m\u001b[0mcopy\u001b[0m \u001b[0;32melse\u001b[0m \u001b[0mX\u001b[0m\u001b[0;34m\u001b[0m\u001b[0;34m\u001b[0m\u001b[0m\n\u001b[1;32m    513\u001b[0m         \u001b[0;32melse\u001b[0m\u001b[0;34m:\u001b[0m  \u001b[0;31m# self.affinity == \"euclidean\"\u001b[0m\u001b[0;34m\u001b[0m\u001b[0;34m\u001b[0m\u001b[0m\n",
      "\u001b[0;32m/Volumes/reDisK/Projects/Python/SiriusAI_withexp/.conda/lib/python3.11/site-packages/sklearn/base.py\u001b[0m in \u001b[0;36m?\u001b[0;34m(self, X, y, reset, validate_separately, cast_to_ndarray, **check_params)\u001b[0m\n\u001b[1;32m    629\u001b[0m                 \u001b[0mout\u001b[0m \u001b[0;34m=\u001b[0m \u001b[0my\u001b[0m\u001b[0;34m\u001b[0m\u001b[0;34m\u001b[0m\u001b[0m\n\u001b[1;32m    630\u001b[0m             \u001b[0;32melse\u001b[0m\u001b[0;34m:\u001b[0m\u001b[0;34m\u001b[0m\u001b[0;34m\u001b[0m\u001b[0m\n\u001b[1;32m    631\u001b[0m                 \u001b[0mout\u001b[0m \u001b[0;34m=\u001b[0m \u001b[0mX\u001b[0m\u001b[0;34m,\u001b[0m \u001b[0my\u001b[0m\u001b[0;34m\u001b[0m\u001b[0;34m\u001b[0m\u001b[0m\n\u001b[1;32m    632\u001b[0m         \u001b[0;32melif\u001b[0m \u001b[0;32mnot\u001b[0m \u001b[0mno_val_X\u001b[0m \u001b[0;32mand\u001b[0m \u001b[0mno_val_y\u001b[0m\u001b[0;34m:\u001b[0m\u001b[0;34m\u001b[0m\u001b[0;34m\u001b[0m\u001b[0m\n\u001b[0;32m--> 633\u001b[0;31m             \u001b[0mout\u001b[0m \u001b[0;34m=\u001b[0m \u001b[0mcheck_array\u001b[0m\u001b[0;34m(\u001b[0m\u001b[0mX\u001b[0m\u001b[0;34m,\u001b[0m \u001b[0minput_name\u001b[0m\u001b[0;34m=\u001b[0m\u001b[0;34m\"X\"\u001b[0m\u001b[0;34m,\u001b[0m \u001b[0;34m**\u001b[0m\u001b[0mcheck_params\u001b[0m\u001b[0;34m)\u001b[0m\u001b[0;34m\u001b[0m\u001b[0;34m\u001b[0m\u001b[0m\n\u001b[0m\u001b[1;32m    634\u001b[0m         \u001b[0;32melif\u001b[0m \u001b[0mno_val_X\u001b[0m \u001b[0;32mand\u001b[0m \u001b[0;32mnot\u001b[0m \u001b[0mno_val_y\u001b[0m\u001b[0;34m:\u001b[0m\u001b[0;34m\u001b[0m\u001b[0;34m\u001b[0m\u001b[0m\n\u001b[1;32m    635\u001b[0m             \u001b[0mout\u001b[0m \u001b[0;34m=\u001b[0m \u001b[0m_check_y\u001b[0m\u001b[0;34m(\u001b[0m\u001b[0my\u001b[0m\u001b[0;34m,\u001b[0m \u001b[0;34m**\u001b[0m\u001b[0mcheck_params\u001b[0m\u001b[0;34m)\u001b[0m\u001b[0;34m\u001b[0m\u001b[0;34m\u001b[0m\u001b[0m\n\u001b[1;32m    636\u001b[0m         \u001b[0;32melse\u001b[0m\u001b[0;34m:\u001b[0m\u001b[0;34m\u001b[0m\u001b[0;34m\u001b[0m\u001b[0m\n",
      "\u001b[0;32m/Volumes/reDisK/Projects/Python/SiriusAI_withexp/.conda/lib/python3.11/site-packages/sklearn/utils/validation.py\u001b[0m in \u001b[0;36m?\u001b[0;34m(array, accept_sparse, accept_large_sparse, dtype, order, copy, force_all_finite, ensure_2d, allow_nd, ensure_min_samples, ensure_min_features, estimator, input_name)\u001b[0m\n\u001b[1;32m    994\u001b[0m                         )\n\u001b[1;32m    995\u001b[0m                     \u001b[0marray\u001b[0m \u001b[0;34m=\u001b[0m \u001b[0mxp\u001b[0m\u001b[0;34m.\u001b[0m\u001b[0mastype\u001b[0m\u001b[0;34m(\u001b[0m\u001b[0marray\u001b[0m\u001b[0;34m,\u001b[0m \u001b[0mdtype\u001b[0m\u001b[0;34m,\u001b[0m \u001b[0mcopy\u001b[0m\u001b[0;34m=\u001b[0m\u001b[0;32mFalse\u001b[0m\u001b[0;34m)\u001b[0m\u001b[0;34m\u001b[0m\u001b[0;34m\u001b[0m\u001b[0m\n\u001b[1;32m    996\u001b[0m                 \u001b[0;32melse\u001b[0m\u001b[0;34m:\u001b[0m\u001b[0;34m\u001b[0m\u001b[0;34m\u001b[0m\u001b[0m\n\u001b[1;32m    997\u001b[0m                     \u001b[0marray\u001b[0m \u001b[0;34m=\u001b[0m \u001b[0m_asarray_with_order\u001b[0m\u001b[0;34m(\u001b[0m\u001b[0marray\u001b[0m\u001b[0;34m,\u001b[0m \u001b[0morder\u001b[0m\u001b[0;34m=\u001b[0m\u001b[0morder\u001b[0m\u001b[0;34m,\u001b[0m \u001b[0mdtype\u001b[0m\u001b[0;34m=\u001b[0m\u001b[0mdtype\u001b[0m\u001b[0;34m,\u001b[0m \u001b[0mxp\u001b[0m\u001b[0;34m=\u001b[0m\u001b[0mxp\u001b[0m\u001b[0;34m)\u001b[0m\u001b[0;34m\u001b[0m\u001b[0;34m\u001b[0m\u001b[0m\n\u001b[0;32m--> 998\u001b[0;31m             \u001b[0;32mexcept\u001b[0m \u001b[0mComplexWarning\u001b[0m \u001b[0;32mas\u001b[0m \u001b[0mcomplex_warning\u001b[0m\u001b[0;34m:\u001b[0m\u001b[0;34m\u001b[0m\u001b[0;34m\u001b[0m\u001b[0m\n\u001b[0m\u001b[1;32m    999\u001b[0m                 raise ValueError(\n\u001b[1;32m   1000\u001b[0m                     \u001b[0;34m\"Complex data not supported\\n{}\\n\"\u001b[0m\u001b[0;34m.\u001b[0m\u001b[0mformat\u001b[0m\u001b[0;34m(\u001b[0m\u001b[0marray\u001b[0m\u001b[0;34m)\u001b[0m\u001b[0;34m\u001b[0m\u001b[0;34m\u001b[0m\u001b[0m\n\u001b[1;32m   1001\u001b[0m                 ) from complex_warning\n",
      "\u001b[0;32m/Volumes/reDisK/Projects/Python/SiriusAI_withexp/.conda/lib/python3.11/site-packages/sklearn/utils/_array_api.py\u001b[0m in \u001b[0;36m?\u001b[0;34m(array, dtype, order, copy, xp)\u001b[0m\n\u001b[1;32m    517\u001b[0m         \u001b[0;31m# Use NumPy API to support order\u001b[0m\u001b[0;34m\u001b[0m\u001b[0;34m\u001b[0m\u001b[0m\n\u001b[1;32m    518\u001b[0m         \u001b[0;32mif\u001b[0m \u001b[0mcopy\u001b[0m \u001b[0;32mis\u001b[0m \u001b[0;32mTrue\u001b[0m\u001b[0;34m:\u001b[0m\u001b[0;34m\u001b[0m\u001b[0;34m\u001b[0m\u001b[0m\n\u001b[1;32m    519\u001b[0m             \u001b[0marray\u001b[0m \u001b[0;34m=\u001b[0m \u001b[0mnumpy\u001b[0m\u001b[0;34m.\u001b[0m\u001b[0marray\u001b[0m\u001b[0;34m(\u001b[0m\u001b[0marray\u001b[0m\u001b[0;34m,\u001b[0m \u001b[0morder\u001b[0m\u001b[0;34m=\u001b[0m\u001b[0morder\u001b[0m\u001b[0;34m,\u001b[0m \u001b[0mdtype\u001b[0m\u001b[0;34m=\u001b[0m\u001b[0mdtype\u001b[0m\u001b[0;34m)\u001b[0m\u001b[0;34m\u001b[0m\u001b[0;34m\u001b[0m\u001b[0m\n\u001b[1;32m    520\u001b[0m         \u001b[0;32melse\u001b[0m\u001b[0;34m:\u001b[0m\u001b[0;34m\u001b[0m\u001b[0;34m\u001b[0m\u001b[0m\n\u001b[0;32m--> 521\u001b[0;31m             \u001b[0marray\u001b[0m \u001b[0;34m=\u001b[0m \u001b[0mnumpy\u001b[0m\u001b[0;34m.\u001b[0m\u001b[0masarray\u001b[0m\u001b[0;34m(\u001b[0m\u001b[0marray\u001b[0m\u001b[0;34m,\u001b[0m \u001b[0morder\u001b[0m\u001b[0;34m=\u001b[0m\u001b[0morder\u001b[0m\u001b[0;34m,\u001b[0m \u001b[0mdtype\u001b[0m\u001b[0;34m=\u001b[0m\u001b[0mdtype\u001b[0m\u001b[0;34m)\u001b[0m\u001b[0;34m\u001b[0m\u001b[0;34m\u001b[0m\u001b[0m\n\u001b[0m\u001b[1;32m    522\u001b[0m \u001b[0;34m\u001b[0m\u001b[0m\n\u001b[1;32m    523\u001b[0m         \u001b[0;31m# At this point array is a NumPy ndarray. We convert it to an array\u001b[0m\u001b[0;34m\u001b[0m\u001b[0;34m\u001b[0m\u001b[0m\n\u001b[1;32m    524\u001b[0m         \u001b[0;31m# container that is consistent with the input's namespace.\u001b[0m\u001b[0;34m\u001b[0m\u001b[0;34m\u001b[0m\u001b[0m\n",
      "\u001b[0;32m/Volumes/reDisK/Projects/Python/SiriusAI_withexp/.conda/lib/python3.11/site-packages/pandas/core/generic.py\u001b[0m in \u001b[0;36m?\u001b[0;34m(self, dtype, copy)\u001b[0m\n\u001b[1;32m   2149\u001b[0m     def __array__(\n\u001b[1;32m   2150\u001b[0m         \u001b[0mself\u001b[0m\u001b[0;34m,\u001b[0m \u001b[0mdtype\u001b[0m\u001b[0;34m:\u001b[0m \u001b[0mnpt\u001b[0m\u001b[0;34m.\u001b[0m\u001b[0mDTypeLike\u001b[0m \u001b[0;34m|\u001b[0m \u001b[0;32mNone\u001b[0m \u001b[0;34m=\u001b[0m \u001b[0;32mNone\u001b[0m\u001b[0;34m,\u001b[0m \u001b[0mcopy\u001b[0m\u001b[0;34m:\u001b[0m \u001b[0mbool_t\u001b[0m \u001b[0;34m|\u001b[0m \u001b[0;32mNone\u001b[0m \u001b[0;34m=\u001b[0m \u001b[0;32mNone\u001b[0m\u001b[0;34m\u001b[0m\u001b[0;34m\u001b[0m\u001b[0m\n\u001b[1;32m   2151\u001b[0m     ) -> np.ndarray:\n\u001b[1;32m   2152\u001b[0m         \u001b[0mvalues\u001b[0m \u001b[0;34m=\u001b[0m \u001b[0mself\u001b[0m\u001b[0;34m.\u001b[0m\u001b[0m_values\u001b[0m\u001b[0;34m\u001b[0m\u001b[0;34m\u001b[0m\u001b[0m\n\u001b[0;32m-> 2153\u001b[0;31m         \u001b[0marr\u001b[0m \u001b[0;34m=\u001b[0m \u001b[0mnp\u001b[0m\u001b[0;34m.\u001b[0m\u001b[0masarray\u001b[0m\u001b[0;34m(\u001b[0m\u001b[0mvalues\u001b[0m\u001b[0;34m,\u001b[0m \u001b[0mdtype\u001b[0m\u001b[0;34m=\u001b[0m\u001b[0mdtype\u001b[0m\u001b[0;34m)\u001b[0m\u001b[0;34m\u001b[0m\u001b[0;34m\u001b[0m\u001b[0m\n\u001b[0m\u001b[1;32m   2154\u001b[0m         if (\n\u001b[1;32m   2155\u001b[0m             \u001b[0mastype_is_view\u001b[0m\u001b[0;34m(\u001b[0m\u001b[0mvalues\u001b[0m\u001b[0;34m.\u001b[0m\u001b[0mdtype\u001b[0m\u001b[0;34m,\u001b[0m \u001b[0marr\u001b[0m\u001b[0;34m.\u001b[0m\u001b[0mdtype\u001b[0m\u001b[0;34m)\u001b[0m\u001b[0;34m\u001b[0m\u001b[0;34m\u001b[0m\u001b[0m\n\u001b[1;32m   2156\u001b[0m             \u001b[0;32mand\u001b[0m \u001b[0musing_copy_on_write\u001b[0m\u001b[0;34m(\u001b[0m\u001b[0;34m)\u001b[0m\u001b[0;34m\u001b[0m\u001b[0;34m\u001b[0m\u001b[0m\n",
      "\u001b[0;31mValueError\u001b[0m: could not convert string to float: 'Авиамоторная'"
     ]
    }
   ],
   "source": [
    "AP = AffinityPropagation(damping=0.9, random_state=17).fit(df)\n",
    "AP"
   ]
  },
  {
   "cell_type": "code",
   "execution_count": null,
   "metadata": {},
   "outputs": [],
   "source": [
    "l = []\n",
    "X = AP.labels_\n",
    "for i in X:\n",
    "    if i not in l:\n",
    "        l.append(i)\n",
    "print(min(l), max(l), '\\n', l, '\\n', sorted(l))"
   ]
  },
  {
   "cell_type": "code",
   "execution_count": 19,
   "metadata": {},
   "outputs": [
    {
     "data": {
      "text/html": [
       "<div>\n",
       "<style scoped>\n",
       "    .dataframe tbody tr th:only-of-type {\n",
       "        vertical-align: middle;\n",
       "    }\n",
       "\n",
       "    .dataframe tbody tr th {\n",
       "        vertical-align: top;\n",
       "    }\n",
       "\n",
       "    .dataframe thead th {\n",
       "        text-align: right;\n",
       "    }\n",
       "</style>\n",
       "<table border=\"1\" class=\"dataframe\">\n",
       "  <thead>\n",
       "    <tr style=\"text-align: right;\">\n",
       "      <th></th>\n",
       "      <th>Metro station</th>\n",
       "      <th>lon</th>\n",
       "      <th>lat</th>\n",
       "      <th>Number of floors</th>\n",
       "      <th>type</th>\n",
       "      <th>Kitchen area</th>\n",
       "      <th>Number of rooms</th>\n",
       "      <th>id</th>\n",
       "      <th>Area</th>\n",
       "      <th>floor</th>\n",
       "      <th>Living area</th>\n",
       "      <th>Price</th>\n",
       "    </tr>\n",
       "  </thead>\n",
       "  <tbody>\n",
       "  </tbody>\n",
       "</table>\n",
       "</div>"
      ],
      "text/plain": [
       "Empty DataFrame\n",
       "Columns: [Metro station, lon, lat, Number of floors, type, Kitchen area, Number of rooms, id, Area, floor, Living area, Price]\n",
       "Index: []"
      ]
     },
     "execution_count": 19,
     "metadata": {},
     "output_type": "execute_result"
    }
   ],
   "source": [
    "columns=['Metro station', 'lon', 'lat', 'Number of floors', 'type', 'Kitchen area', 'Number of rooms', 'id', 'Area', 'floor', 'Living area', 'Price']\n",
    "dfc = pd.DataFrame(columns=columns)\n",
    "dfc"
   ]
  },
  {
   "cell_type": "code",
   "execution_count": 39,
   "metadata": {},
   "outputs": [
    {
     "ename": "IndexError",
     "evalue": "single positional indexer is out-of-bounds",
     "output_type": "error",
     "traceback": [
      "\u001b[0;31m---------------------------------------------------------------------------\u001b[0m",
      "\u001b[0;31mIndexError\u001b[0m                                Traceback (most recent call last)",
      "Cell \u001b[0;32mIn[39], line 3\u001b[0m\n\u001b[1;32m      1\u001b[0m \u001b[38;5;28;01mfor\u001b[39;00m i \u001b[38;5;129;01min\u001b[39;00m \u001b[38;5;28mrange\u001b[39m(df\u001b[38;5;241m.\u001b[39mshape[\u001b[38;5;241m0\u001b[39m]):\n\u001b[1;32m      2\u001b[0m     a \u001b[38;5;241m=\u001b[39m np\u001b[38;5;241m.\u001b[39marray(df\u001b[38;5;241m.\u001b[39miloc[i])\n\u001b[0;32m----> 3\u001b[0m     \u001b[38;5;28;01mif\u001b[39;00m \u001b[43mdfc\u001b[49m\u001b[38;5;241;43m.\u001b[39;49m\u001b[43miloc\u001b[49m\u001b[43m[\u001b[49m\u001b[43mi\u001b[49m\u001b[43m]\u001b[49m \u001b[38;5;241m==\u001b[39m df\u001b[38;5;241m.\u001b[39many():\n\u001b[1;32m      4\u001b[0m         \u001b[38;5;28mprint\u001b[39m(i)\n",
      "File \u001b[0;32m/Volumes/reDisK/Projects/Python/SiriusAI_withexp/.conda/lib/python3.11/site-packages/pandas/core/indexing.py:1191\u001b[0m, in \u001b[0;36m_LocationIndexer.__getitem__\u001b[0;34m(self, key)\u001b[0m\n\u001b[1;32m   1189\u001b[0m maybe_callable \u001b[38;5;241m=\u001b[39m com\u001b[38;5;241m.\u001b[39mapply_if_callable(key, \u001b[38;5;28mself\u001b[39m\u001b[38;5;241m.\u001b[39mobj)\n\u001b[1;32m   1190\u001b[0m maybe_callable \u001b[38;5;241m=\u001b[39m \u001b[38;5;28mself\u001b[39m\u001b[38;5;241m.\u001b[39m_check_deprecated_callable_usage(key, maybe_callable)\n\u001b[0;32m-> 1191\u001b[0m \u001b[38;5;28;01mreturn\u001b[39;00m \u001b[38;5;28;43mself\u001b[39;49m\u001b[38;5;241;43m.\u001b[39;49m\u001b[43m_getitem_axis\u001b[49m\u001b[43m(\u001b[49m\u001b[43mmaybe_callable\u001b[49m\u001b[43m,\u001b[49m\u001b[43m \u001b[49m\u001b[43maxis\u001b[49m\u001b[38;5;241;43m=\u001b[39;49m\u001b[43maxis\u001b[49m\u001b[43m)\u001b[49m\n",
      "File \u001b[0;32m/Volumes/reDisK/Projects/Python/SiriusAI_withexp/.conda/lib/python3.11/site-packages/pandas/core/indexing.py:1752\u001b[0m, in \u001b[0;36m_iLocIndexer._getitem_axis\u001b[0;34m(self, key, axis)\u001b[0m\n\u001b[1;32m   1749\u001b[0m     \u001b[38;5;28;01mraise\u001b[39;00m \u001b[38;5;167;01mTypeError\u001b[39;00m(\u001b[38;5;124m\"\u001b[39m\u001b[38;5;124mCannot index by location index with a non-integer key\u001b[39m\u001b[38;5;124m\"\u001b[39m)\n\u001b[1;32m   1751\u001b[0m \u001b[38;5;66;03m# validate the location\u001b[39;00m\n\u001b[0;32m-> 1752\u001b[0m \u001b[38;5;28;43mself\u001b[39;49m\u001b[38;5;241;43m.\u001b[39;49m\u001b[43m_validate_integer\u001b[49m\u001b[43m(\u001b[49m\u001b[43mkey\u001b[49m\u001b[43m,\u001b[49m\u001b[43m \u001b[49m\u001b[43maxis\u001b[49m\u001b[43m)\u001b[49m\n\u001b[1;32m   1754\u001b[0m \u001b[38;5;28;01mreturn\u001b[39;00m \u001b[38;5;28mself\u001b[39m\u001b[38;5;241m.\u001b[39mobj\u001b[38;5;241m.\u001b[39m_ixs(key, axis\u001b[38;5;241m=\u001b[39maxis)\n",
      "File \u001b[0;32m/Volumes/reDisK/Projects/Python/SiriusAI_withexp/.conda/lib/python3.11/site-packages/pandas/core/indexing.py:1685\u001b[0m, in \u001b[0;36m_iLocIndexer._validate_integer\u001b[0;34m(self, key, axis)\u001b[0m\n\u001b[1;32m   1683\u001b[0m len_axis \u001b[38;5;241m=\u001b[39m \u001b[38;5;28mlen\u001b[39m(\u001b[38;5;28mself\u001b[39m\u001b[38;5;241m.\u001b[39mobj\u001b[38;5;241m.\u001b[39m_get_axis(axis))\n\u001b[1;32m   1684\u001b[0m \u001b[38;5;28;01mif\u001b[39;00m key \u001b[38;5;241m>\u001b[39m\u001b[38;5;241m=\u001b[39m len_axis \u001b[38;5;129;01mor\u001b[39;00m key \u001b[38;5;241m<\u001b[39m \u001b[38;5;241m-\u001b[39mlen_axis:\n\u001b[0;32m-> 1685\u001b[0m     \u001b[38;5;28;01mraise\u001b[39;00m \u001b[38;5;167;01mIndexError\u001b[39;00m(\u001b[38;5;124m\"\u001b[39m\u001b[38;5;124msingle positional indexer is out-of-bounds\u001b[39m\u001b[38;5;124m\"\u001b[39m)\n",
      "\u001b[0;31mIndexError\u001b[0m: single positional indexer is out-of-bounds"
     ]
    }
   ],
   "source": [
    "for i in range(df.shape[0]):\n",
    "    a = np.array(df.iloc[i])\n",
    "    if dfc.iloc[i] == df.any():\n",
    "        print(i)"
   ]
  },
  {
   "cell_type": "code",
   "execution_count": 29,
   "metadata": {},
   "outputs": [
    {
     "data": {
      "text/html": [
       "<div>\n",
       "<style scoped>\n",
       "    .dataframe tbody tr th:only-of-type {\n",
       "        vertical-align: middle;\n",
       "    }\n",
       "\n",
       "    .dataframe tbody tr th {\n",
       "        vertical-align: top;\n",
       "    }\n",
       "\n",
       "    .dataframe thead th {\n",
       "        text-align: right;\n",
       "    }\n",
       "</style>\n",
       "<table border=\"1\" class=\"dataframe\">\n",
       "  <thead>\n",
       "    <tr style=\"text-align: right;\">\n",
       "      <th></th>\n",
       "      <th>Metro station</th>\n",
       "      <th>lon</th>\n",
       "      <th>lat</th>\n",
       "      <th>Number of floors</th>\n",
       "      <th>type</th>\n",
       "      <th>Kitchen area</th>\n",
       "      <th>Number of rooms</th>\n",
       "      <th>id</th>\n",
       "      <th>Area</th>\n",
       "      <th>floor</th>\n",
       "      <th>Living area</th>\n",
       "      <th>Price</th>\n",
       "    </tr>\n",
       "  </thead>\n",
       "  <tbody>\n",
       "    <tr>\n",
       "      <th>24</th>\n",
       "      <td>Авиамоторная</td>\n",
       "      <td>37.744617</td>\n",
       "      <td>55.736848</td>\n",
       "      <td>29</td>\n",
       "      <td>monolith</td>\n",
       "      <td>24.4</td>\n",
       "      <td>4.0</td>\n",
       "      <td>296502252</td>\n",
       "      <td>91.1</td>\n",
       "      <td>26</td>\n",
       "      <td>46.1</td>\n",
       "      <td>32104844.0</td>\n",
       "    </tr>\n",
       "  </tbody>\n",
       "</table>\n",
       "</div>"
      ],
      "text/plain": [
       "   Metro station        lon        lat  Number of floors      type  \\\n",
       "24  Авиамоторная  37.744617  55.736848                29  monolith   \n",
       "\n",
       "    Kitchen area  Number of rooms         id  Area  floor  Living area  \\\n",
       "24          24.4              4.0  296502252  91.1     26         46.1   \n",
       "\n",
       "         Price  \n",
       "24  32104844.0  "
      ]
     },
     "execution_count": 29,
     "metadata": {},
     "output_type": "execute_result"
    }
   ],
   "source": [
    "df.iloc[[24]]"
   ]
  },
  {
   "cell_type": "code",
   "execution_count": 30,
   "metadata": {},
   "outputs": [
    {
     "data": {
      "text/html": [
       "<div>\n",
       "<style scoped>\n",
       "    .dataframe tbody tr th:only-of-type {\n",
       "        vertical-align: middle;\n",
       "    }\n",
       "\n",
       "    .dataframe tbody tr th {\n",
       "        vertical-align: top;\n",
       "    }\n",
       "\n",
       "    .dataframe thead th {\n",
       "        text-align: right;\n",
       "    }\n",
       "</style>\n",
       "<table border=\"1\" class=\"dataframe\">\n",
       "  <thead>\n",
       "    <tr style=\"text-align: right;\">\n",
       "      <th></th>\n",
       "      <th>Metro station</th>\n",
       "      <th>lon</th>\n",
       "      <th>lat</th>\n",
       "      <th>Number of floors</th>\n",
       "      <th>type</th>\n",
       "      <th>Kitchen area</th>\n",
       "      <th>Number of rooms</th>\n",
       "      <th>id</th>\n",
       "      <th>Area</th>\n",
       "      <th>floor</th>\n",
       "      <th>Living area</th>\n",
       "      <th>Price</th>\n",
       "    </tr>\n",
       "  </thead>\n",
       "  <tbody>\n",
       "  </tbody>\n",
       "</table>\n",
       "</div>"
      ],
      "text/plain": [
       "Empty DataFrame\n",
       "Columns: [Metro station, lon, lat, Number of floors, type, Kitchen area, Number of rooms, id, Area, floor, Living area, Price]\n",
       "Index: []"
      ]
     },
     "execution_count": 30,
     "metadata": {},
     "output_type": "execute_result"
    }
   ],
   "source": [
    "dfc"
   ]
  },
  {
   "cell_type": "code",
   "execution_count": 36,
   "metadata": {},
   "outputs": [
    {
     "data": {
      "text/plain": [
       "array(['Авиамоторная', 37.735153, 55.754122, 5, 'monolith', 3.0, nan,\n",
       "       301280480, 21.4, 4, 18.0, 6990000.0], dtype=object)"
      ]
     },
     "execution_count": 36,
     "metadata": {},
     "output_type": "execute_result"
    }
   ],
   "source": [
    "a = np.array(df.iloc[1])\n"
   ]
  },
  {
   "cell_type": "code",
   "execution_count": null,
   "metadata": {},
   "outputs": [],
   "source": []
  }
 ],
 "metadata": {
  "kernelspec": {
   "display_name": "Python 3",
   "language": "python",
   "name": "python3"
  },
  "language_info": {
   "codemirror_mode": {
    "name": "ipython",
    "version": 3
   },
   "file_extension": ".py",
   "mimetype": "text/x-python",
   "name": "python",
   "nbconvert_exporter": "python",
   "pygments_lexer": "ipython3",
   "version": "3.11.9"
  }
 },
 "nbformat": 4,
 "nbformat_minor": 2
}
